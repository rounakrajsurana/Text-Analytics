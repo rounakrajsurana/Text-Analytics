{
 "cells": [
  {
   "cell_type": "code",
   "execution_count": 1,
   "metadata": {},
   "outputs": [],
   "source": [
    "import pandas as pd\n",
    "import numpy as np\n",
    "from nltk.tokenize import word_tokenize\n",
    "from nltk import pos_tag\n",
    "from nltk.corpus import stopwords\n",
    "from nltk.stem import WordNetLemmatizer\n",
    "from sklearn.preprocessing import LabelEncoder\n",
    "from collections import defaultdict\n",
    "from nltk.corpus import wordnet as wn\n",
    "from sklearn.feature_extraction.text import CountVectorizer\n",
    "from sklearn.feature_extraction.text import TfidfVectorizer\n",
    "from sklearn.feature_extraction.text import TfidfTransformer\n",
    "from sklearn import model_selection, naive_bayes, svm\n",
    "from sklearn.naive_bayes import MultinomialNB\n",
    "from sklearn.naive_bayes import BernoulliNB\n",
    "from sklearn.svm import SVC\n",
    "from xgboost import XGBClassifier\n",
    "from sklearn.tree import DecisionTreeClassifier\n",
    "from sklearn.metrics import accuracy_score\n",
    "from sklearn.metrics import precision_score\n",
    "from sklearn.metrics import recall_score\n",
    "from sklearn.metrics import f1_score\n",
    "from sklearn.metrics import confusion_matrix\n",
    "from sklearn.metrics import classification_report\n",
    "from sklearn.pipeline import Pipeline\n",
    "import matplotlib.pyplot as plt\n",
    "import itertools\n",
    "import pickle"
   ]
  },
  {
   "cell_type": "code",
   "execution_count": 2,
   "metadata": {},
   "outputs": [],
   "source": [
    "np.random.seed(5000)"
   ]
  },
  {
   "cell_type": "code",
   "execution_count": 3,
   "metadata": {},
   "outputs": [
    {
     "data": {
      "text/plain": [
       "array(['positive', 'neutral'], dtype=object)"
      ]
     },
     "execution_count": 3,
     "metadata": {},
     "output_type": "execute_result"
    }
   ],
   "source": [
    "Corpus = pd.read_csv(r\"data/student_evaluation.csv\",encoding='latin-1')\n",
    "# Corpus.head()\n",
    "Corpus.Sentiment.unique()"
   ]
  },
  {
   "cell_type": "code",
   "execution_count": 4,
   "metadata": {},
   "outputs": [],
   "source": [
    "# test = pd.read_csv(r\"data/test.csv\",encoding='latin-1')\n",
    "# test.head()\n",
    "# # Corpus.Sentiment.unique()"
   ]
  },
  {
   "cell_type": "code",
   "execution_count": 5,
   "metadata": {},
   "outputs": [],
   "source": [
    "# # Step - a : Remove blank rows if any.\n",
    "# test['comment'].dropna(inplace=True)\n",
    "\n",
    "# # Step - b : Change all the text to lower case. This is required as python interprets 'dog' and 'DOG' differently\n",
    "# test['comment'] = [entry.lower() for entry in test['comment']]\n",
    "\n",
    "# # Step - c : Tokenization : In this each entry in the test will be broken into set of words\n",
    "# test['comment']= [word_tokenize(entry) for entry in test['comment']]\n",
    "\n",
    "# # Step - d : Remove Stop words, Non-Numeric and perfom Word Stemming/Lemmenting.\n",
    "# # WordNetLemmatizer requires Pos tags to understand if the word is noun or verb or adjective etc. By default it is set to Noun\n",
    "# tag_map = defaultdict(lambda : wn.NOUN)\n",
    "# tag_map['J'] = wn.ADJ\n",
    "# tag_map['V'] = wn.VERB\n",
    "# tag_map['R'] = wn.ADV\n",
    "# for index,entry in enumerate(test['comment']):\n",
    "#     # Declaring Empty List to store the words that follow the rules for this step\n",
    "#     final_words = []\n",
    "#     # Initializing WordNetLemmatizer()\n",
    "#     word_Lemmatized = WordNetLemmatizer()\n",
    "#     # pos_tag function below will provide the 'tag' i.e if the word is Noun(N) or Verb(V) or something else.\n",
    "#     for word, tag in pos_tag(entry):\n",
    "#         # Below condition is to check for Stop words and consider only alphabets\n",
    "#         if word not in stopwords.words('english') and word.isalpha():\n",
    "#             word_Final = word_Lemmatized.lemmatize(word,tag_map[tag[0]])\n",
    "#             final_words.append(word_Final)\n",
    "#     # The final processed set of words for each iteration will be stored in 'text_final'\n",
    "#     test.loc[index,'test_final'] = str(final_words)\n",
    "\n",
    "# # print(Final_words)\n",
    "# # https://medium.com/@bedigunjit/simple-guide-to-text-classification-nlp-using-svm-and-naive-bayes-with-python-421db3a72d34\n"
   ]
  },
  {
   "cell_type": "code",
   "execution_count": 6,
   "metadata": {},
   "outputs": [],
   "source": [
    "# Step - a : Remove blank rows if any.\n",
    "Corpus['comment'].dropna(inplace=True)\n",
    "\n",
    "# Step - b : Change all the text to lower case. This is required as python interprets 'dog' and 'DOG' differently\n",
    "Corpus['comment'] = [entry.lower() for entry in Corpus['comment']]\n",
    "\n",
    "# Step - c : Tokenization : In this each entry in the corpus will be broken into set of words\n",
    "Corpus['comment']= [word_tokenize(entry) for entry in Corpus['comment']]\n",
    "\n",
    "# Step - d : Remove Stop words, Non-Numeric and perfom Word Stemming/Lemmenting.\n",
    "# WordNetLemmatizer requires Pos tags to understand if the word is noun or verb or adjective etc. By default it is set to Noun\n",
    "tag_map = defaultdict(lambda : wn.NOUN)\n",
    "tag_map['J'] = wn.ADJ\n",
    "tag_map['V'] = wn.VERB\n",
    "tag_map['R'] = wn.ADV\n",
    "for index,entry in enumerate(Corpus['comment']):\n",
    "    # Declaring Empty List to store the words that follow the rules for this step\n",
    "    Final_words = []\n",
    "    # Initializing WordNetLemmatizer()\n",
    "    word_Lemmatized = WordNetLemmatizer()\n",
    "    # pos_tag function below will provide the 'tag' i.e if the word is Noun(N) or Verb(V) or something else.\n",
    "    for word, tag in pos_tag(entry):\n",
    "        # Below condition is to check for Stop words and consider only alphabets\n",
    "        if word not in stopwords.words('english') and word.isalpha():\n",
    "            word_Final = word_Lemmatized.lemmatize(word,tag_map[tag[0]])\n",
    "            Final_words.append(word_Final)\n",
    "    # The final processed set of words for each iteration will be stored in 'text_final'\n",
    "    Corpus.loc[index,'text_final'] = str(Final_words)\n",
    "\n",
    "# print(Final_words)"
   ]
  },
  {
   "cell_type": "code",
   "execution_count": 10,
   "metadata": {},
   "outputs": [
    {
     "data": {
      "text/plain": [
       "neutral     335\n",
       "positive    306\n",
       "Name: Sentiment, dtype: int64"
      ]
     },
     "execution_count": 10,
     "metadata": {},
     "output_type": "execute_result"
    }
   ],
   "source": [
    "Train_X, Test_X, Train_Y, Test_Y = model_selection.train_test_split(Corpus['text_final'],Corpus['Sentiment'],test_size=0.2)\n",
    "# X_Test= test['test_final']\n",
    "Corpus['Sentiment'].value_counts()\n",
    "# Corpus['text_final']\n",
    "# X_Test.shape()\n",
    "# Train_X.describe()"
   ]
  },
  {
   "cell_type": "code",
   "execution_count": 11,
   "metadata": {},
   "outputs": [],
   "source": [
    "# Train_X, Test_X, Train_Y, Test_Y = model_selection.train_test_split(Corpus['text_final'],Corpus['suggestion'],test_size=0.2)\n",
    "# # Train_X\n",
    "# # Test_Y.describe()\n",
    "# # type(Test_Y)\n",
    "# a = Corpus.to_numpy()\n",
    "# # a = Train_X.to_numpy()\n",
    "# a.shape\n",
    "# nos = a[a=='NO']\n",
    "# CS = a[a == 'CS']\n",
    "# IS = a[a == 'IS']\n",
    "\n",
    "# print(nos.shape)\n",
    "# print(CS.shape)\n",
    "\n",
    "# print(IS.shape)\n",
    "# # yes = a[a=='yes']\n",
    "# # yes.shape\n",
    "# # Test_Y.unique()"
   ]
  },
  {
   "cell_type": "code",
   "execution_count": 12,
   "metadata": {},
   "outputs": [],
   "source": [
    "Encoder = LabelEncoder()\n",
    "Train_Y = Encoder.fit_transform(Train_Y)\n",
    "Test_Y = Encoder.fit_transform(Test_Y)\n",
    "# Test_X.describe"
   ]
  },
  {
   "cell_type": "code",
   "execution_count": 13,
   "metadata": {},
   "outputs": [],
   "source": [
    "Tfidf_vect = TfidfVectorizer()\n",
    "Tfidf_vect.fit(Corpus['text_final'])\n",
    "Train_X_Tfidf = Tfidf_vect.transform(Train_X)\n",
    "Test_X_Tfidf = Tfidf_vect.transform(Test_X)\n",
    "# type(Test_X_Tfidf)\n",
    "# print(Train_X_Tfidf)\n",
    "# vectorizer = CountVectorizer(ngram_range=(2,2))\n",
    "# Tfidf_vect.fit_transform(Corpus['text_final'])\n",
    "\n",
    "# print(Tfidf_vect.get_feature_names())\n",
    "\n",
    "# vectorizer = TfidfVectorizer(ngram_range=(2,2)) # You can still specify n-grams here.\n",
    "# X = vectorizer.fit_transform(arr)"
   ]
  },
  {
   "cell_type": "markdown",
   "metadata": {},
   "source": [
    "# Neural Network"
   ]
  },
  {
   "cell_type": "code",
   "execution_count": 14,
   "metadata": {},
   "outputs": [
    {
     "name": "stderr",
     "output_type": "stream",
     "text": [
      "Using TensorFlow backend.\n",
      "/home/rounak/.local/lib/python3.6/site-packages/tensorflow/python/framework/dtypes.py:523: FutureWarning: Passing (type, 1) or '1type' as a synonym of type is deprecated; in a future version of numpy, it will be understood as (type, (1,)) / '(1,)type'.\n",
      "  _np_qint8 = np.dtype([(\"qint8\", np.int8, 1)])\n",
      "/home/rounak/.local/lib/python3.6/site-packages/tensorflow/python/framework/dtypes.py:524: FutureWarning: Passing (type, 1) or '1type' as a synonym of type is deprecated; in a future version of numpy, it will be understood as (type, (1,)) / '(1,)type'.\n",
      "  _np_quint8 = np.dtype([(\"quint8\", np.uint8, 1)])\n",
      "/home/rounak/.local/lib/python3.6/site-packages/tensorflow/python/framework/dtypes.py:525: FutureWarning: Passing (type, 1) or '1type' as a synonym of type is deprecated; in a future version of numpy, it will be understood as (type, (1,)) / '(1,)type'.\n",
      "  _np_qint16 = np.dtype([(\"qint16\", np.int16, 1)])\n",
      "/home/rounak/.local/lib/python3.6/site-packages/tensorflow/python/framework/dtypes.py:526: FutureWarning: Passing (type, 1) or '1type' as a synonym of type is deprecated; in a future version of numpy, it will be understood as (type, (1,)) / '(1,)type'.\n",
      "  _np_quint16 = np.dtype([(\"quint16\", np.uint16, 1)])\n",
      "/home/rounak/.local/lib/python3.6/site-packages/tensorflow/python/framework/dtypes.py:527: FutureWarning: Passing (type, 1) or '1type' as a synonym of type is deprecated; in a future version of numpy, it will be understood as (type, (1,)) / '(1,)type'.\n",
      "  _np_qint32 = np.dtype([(\"qint32\", np.int32, 1)])\n",
      "/home/rounak/.local/lib/python3.6/site-packages/tensorflow/python/framework/dtypes.py:532: FutureWarning: Passing (type, 1) or '1type' as a synonym of type is deprecated; in a future version of numpy, it will be understood as (type, (1,)) / '(1,)type'.\n",
      "  np_resource = np.dtype([(\"resource\", np.ubyte, 1)])\n"
     ]
    },
    {
     "name": "stdout",
     "output_type": "stream",
     "text": [
      "768\n",
      "_________________________________________________________________\n",
      "Layer (type)                 Output Shape              Param #   \n",
      "=================================================================\n",
      "dense_1 (Dense)              (None, 20)                15380     \n",
      "_________________________________________________________________\n",
      "dense_2 (Dense)              (None, 1)                 21        \n",
      "=================================================================\n",
      "Total params: 15,401\n",
      "Trainable params: 15,401\n",
      "Non-trainable params: 0\n",
      "_________________________________________________________________\n",
      "Training Accuracy: 0.9805\n",
      "Testing Accuracy:  0.7287\n"
     ]
    }
   ],
   "source": [
    "from keras.models import Sequential\n",
    "from keras import layers\n",
    "\n",
    "input_dim = Train_X_Tfidf.shape[1]  # Number of features\n",
    "print(input_dim)\n",
    "model = Sequential()\n",
    "model.add(layers.Dense(20, input_dim=input_dim, activation='relu'))\n",
    "model.add(layers.Dense(1, activation='sigmoid'))\n",
    "\n",
    "model.compile(loss='binary_crossentropy', \n",
    "              optimizer='adam', \n",
    "              metrics=['accuracy'])\n",
    "model.summary()\n",
    "\n",
    "# xgb.fit(Train_X_Tfidf,Train_Y)\n",
    "history = model.fit(Train_X_Tfidf,Train_Y,\n",
    "                    epochs=100,\n",
    "                    verbose=False,\n",
    "                    validation_data=(Test_X_Tfidf, Test_Y),\n",
    "                    batch_size=10)\n",
    "\n",
    "loss, accuracy = model.evaluate(Train_X_Tfidf,Train_Y, verbose=False)\n",
    "print(\"Training Accuracy: {:.4f}\".format(accuracy))\n",
    "loss, accuracy= model.evaluate(Test_X_Tfidf, Test_Y, verbose=False)\n",
    "print(\"Testing Accuracy:  {:.4f}\".format(accuracy))\n"
   ]
  },
  {
   "cell_type": "code",
   "execution_count": 15,
   "metadata": {},
   "outputs": [
    {
     "name": "stdout",
     "output_type": "stream",
     "text": [
      "512\n"
     ]
    }
   ],
   "source": [
    "\n",
    "input_dim = Train_X_Tfidf.shape[0]  # Number of features\n",
    "print(input_dim)"
   ]
  },
  {
   "cell_type": "code",
   "execution_count": null,
   "metadata": {},
   "outputs": [],
   "source": [
    "\n",
    "# # # First XGBoost model for Pima Indians dataset\n",
    "# # from numpy import loadtxt\n",
    "# # from xgboost import XGBClassifier\n",
    "# # from sklearn.model_selection import train_test_split\n",
    "# # from sklearn.metrics import accuracy_score\n",
    "# # # load data\n",
    "# # dataset = loadtxt('pima-indians-diabetes.csv', delimiter=\",\")\n",
    "# # # split data into X and y\n",
    "# # X = dataset[:,0:8]\n",
    "# # Y = dataset[:,8]\n",
    "# # # split data into train and test sets\n",
    "# # seed = 7\n",
    "# # test_size = 0.33\n",
    "# # X_train, X_test, y_train, y_test = train_test_split(X, Y, test_size=test_size, random_state=seed)\n",
    "# # # fit model no training data\n",
    "# model = XGBClassifier()\n",
    "# model.fit(X_train, y_train)\n",
    "# # make predictions for test data\n",
    "# y_pred = model.predict(X_test)\n",
    "# predictions = [round(value) for value in y_pred]\n",
    "# # evaluate predictions\n",
    "# accuracy = accuracy_score(y_test, predictions)\n",
    "# print(\"Accuracy: %.2f%%\" % (accuracy * 100.0))"
   ]
  },
  {
   "cell_type": "code",
   "execution_count": null,
   "metadata": {},
   "outputs": [],
   "source": []
  },
  {
   "cell_type": "code",
   "execution_count": null,
   "metadata": {},
   "outputs": [],
   "source": [
    "# %matplotlib inline\n",
    "\n",
    "# import seaborn as sns\n",
    "# import matplotlib.pyplot as plt\n",
    "\n",
    "# plt.figure(figsize=(12,5))\n",
    "# sns.countplot(x=bbc_text_df.category, color='green')\n",
    "# plt.title('BBC text class distribution', fontsize=16)\n",
    "# plt.ylabel('Class Counts', fontsize=16)\n",
    "# plt.xlabel('Class Label', fontsize=16)\n",
    "# plt.xticks(rotation='vertical');"
   ]
  },
  {
   "cell_type": "code",
   "execution_count": null,
   "metadata": {},
   "outputs": [],
   "source": [
    "# # Step - a : Remove blank rows if any.\n",
    "# Corpus['comment'].dropna(inplace=True)\n",
    "\n",
    "# # Step - b : Change all the text to lower case. This is required as python interprets 'dog' and 'DOG' differently\n",
    "# Corpus['comment'] = [entry.lower() for entry in Corpus['comment']]\n",
    "\n",
    "# # Step - c : Tokenization : In this each entry in the corpus will be broken into set of words\n",
    "# Corpus['comment']= [word_tokenize(entry) for entry in Corpus['comment']]\n",
    "\n",
    "# # Step - d : Remove Stop words, Non-Numeric and perfom Word Stemming/Lemmenting.\n",
    "# # WordNetLemmatizer requires Pos tags to understand if the word is noun or verb or adjective etc. By default it is set to Noun\n",
    "# tag_map = defaultdict(lambda : wn.NOUN)\n",
    "# tag_map['J'] = wn.ADJ\n",
    "# tag_map['V'] = wn.VERB\n",
    "# tag_map['R'] = wn.ADV\n",
    "# for index,entry in enumerate(Corpus['comment']):\n",
    "#     # Declaring Empty List to store the words that follow the rules for this step\n",
    "#     Final_words = []\n",
    "#     # Initializing WordNetLemmatizer()\n",
    "#     word_Lemmatized = WordNetLemmatizer()\n",
    "#     # pos_tag function below will provide the 'tag' i.e if the word is Noun(N) or Verb(V) or something else.\n",
    "#     for word, tag in pos_tag(entry):\n",
    "#         # Below condition is to check for Stop words and consider only alphabets\n",
    "#         if word not in stopwords.words('english') and word.isalpha():\n",
    "#             word_Final = word_Lemmatized.lemmatize(word,tag_map[tag[0]])\n",
    "#             Final_words.append(word_Final)\n",
    "#     # The final processed set of words for each iteration will be stored in 'text_final'\n",
    "#     Corpus.loc[index,'text_final'] = str(Final_words)\n",
    "# Final_words"
   ]
  },
  {
   "cell_type": "code",
   "execution_count": null,
   "metadata": {},
   "outputs": [],
   "source": [
    "# from tkinter import *\n",
    " \n",
    "# window = Tk()\n",
    " \n",
    "# window.title(\"Welcome to LikeGeeks app\")\n",
    " \n",
    "# window.geometry('350x200')\n",
    " \n",
    "# lbl = Label(window, text=\"Hello\")\n",
    " \n",
    "# lbl.grid(column=0, row=0)\n",
    " \n",
    "# txt = Entry(window,width=10)\n",
    "# # txt.pack()\n",
    "# # txt.focus_set()\n",
    "# # insertedtext = txt.get()\n",
    "\n",
    "# txt.grid(column=1, row=0)\n",
    " \n",
    "# def clicked():\n",
    "#     text = txt.get()\n",
    "#     lower = text.lower()\n",
    "#     words= []\n",
    "#     remove_num = re.sub(r'\\d+', '', lower)\n",
    "#     print(remove_num,' \\n\\n')\n",
    "# # punch = remove_num.translate(string.maketrans(\"\",\"\"), string.punctuation)\n",
    "#     space = remove_num.strip()\n",
    "#     print(space,' \\n\\n')\n",
    "#     tokens = word_tokenize(space)\n",
    "#     print(tokens,' \\n\\n')\n",
    "#     stop_words = set(stopwords.words('english'))\n",
    "#     print(stop_words,' \\n\\n')\n",
    "#     result = [i for i in tokens if not i in stop_words]\n",
    "#     print(result,' \\n\\n')\n",
    "#     lemmatizer=WordNetLemmatizer()\n",
    "# #     l=lemmatizer.lemmatize([word for word in result])\n",
    "#     for word in result:\n",
    "#         words.append(lemmatizer.lemmatize(word))\n",
    "#     #Define class functions\n",
    "#     print(words,' \\n\\n')\n",
    "#     Test_X_Tfidf = Tfidf_vect.transform(words)\n",
    "# #      = txt.get()\n",
    "    \n",
    "#     out = model.predict(Test_X_Tfidflol)\n",
    "#     print(Test_X_Tfidflol)\n",
    "# #     print(out[1])\n",
    "    \n",
    "#     if out[0] == 0:\n",
    "#         lbl.configure(text=\"Suggestion is a NO\")\n",
    "#     else:\n",
    "#         lbl.configure(text=\"Suggestion is a YES\")\n",
    "    \n",
    "# btn = Button(window, text=\"Click Me\", command=clicked)\n",
    "\n",
    "# btn.grid(column=2, row=0)\n",
    "# # c\n",
    "# window.mainloop()"
   ]
  }
 ],
 "metadata": {
  "kernelspec": {
   "display_name": "Python 3",
   "language": "python",
   "name": "python3"
  },
  "language_info": {
   "codemirror_mode": {
    "name": "ipython",
    "version": 3
   },
   "file_extension": ".py",
   "mimetype": "text/x-python",
   "name": "python",
   "nbconvert_exporter": "python",
   "pygments_lexer": "ipython3",
   "version": "3.6.8"
  }
 },
 "nbformat": 4,
 "nbformat_minor": 2
}
