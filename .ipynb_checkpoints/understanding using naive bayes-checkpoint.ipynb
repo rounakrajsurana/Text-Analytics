{
 "cells": [
  {
   "cell_type": "code",
   "execution_count": 41,
   "metadata": {},
   "outputs": [],
   "source": [
    "# https://medium.com/@bedigunjit/simple-guide-to-text-classification-nlp-using-svm-and-naive-bayes-with-python-421db3a72d34\n",
    "\n",
    "import pandas as pd\n",
    "import numpy as np\n",
    "from nltk.tokenize import word_tokenize\n",
    "from nltk import pos_tag\n",
    "from nltk.corpus import stopwords\n",
    "from nltk.stem import WordNetLemmatizer\n",
    "from sklearn.preprocessing import LabelEncoder\n",
    "from collections import defaultdict\n",
    "from nltk.corpus import wordnet as wn\n",
    "from sklearn.feature_extraction.text import TfidfVectorizer\n",
    "from sklearn import model_selection, naive_bayes, svm\n",
    "from xgboost import XGBClassifier\n",
    "from sklearn.metrics import accuracy_score\n",
    "from sklearn.metrics import confusion_matrix\n",
    "from sklearn.metrics import classification_report\n",
    "# import rb\n",
    "import pickle"
   ]
  },
  {
   "cell_type": "code",
   "execution_count": 42,
   "metadata": {},
   "outputs": [],
   "source": [
    "np.random.seed(5000)"
   ]
  },
  {
   "cell_type": "code",
   "execution_count": 43,
   "metadata": {},
   "outputs": [],
   "source": [
    "Corpus = pd.read_csv(r\"data/student_evaluation.csv\",encoding='latin-1')"
   ]
  },
  {
   "cell_type": "code",
   "execution_count": 44,
   "metadata": {},
   "outputs": [],
   "source": [
    "# Step - a : Remove blank rows if any.\n",
    "Corpus['comment'].dropna(inplace=True)\n",
    "\n",
    "# Step - b : Change all the text to lower case. This is required as python interprets 'dog' and 'DOG' differently\n",
    "Corpus['comment'] = [entry.lower() for entry in Corpus['comment']]\n",
    "\n",
    "# Step - c : Tokenization : In this each entry in the corpus will be broken into set of words\n",
    "Corpus['comment']= [word_tokenize(entry) for entry in Corpus['comment']]\n",
    "\n",
    "# Step - d : Remove Stop words, Non-Numeric and perfom Word Stemming/Lemmenting.\n",
    "# WordNetLemmatizer requires Pos tags to understand if the word is noun or verb or adjective etc. By default it is set to Noun\n",
    "tag_map = defaultdict(lambda : wn.NOUN)\n",
    "tag_map['J'] = wn.ADJ\n",
    "tag_map['V'] = wn.VERB\n",
    "tag_map['R'] = wn.ADV\n",
    "for index,entry in enumerate(Corpus['comment']):\n",
    "    # Declaring Empty List to store the words that follow the rules for this step\n",
    "    Final_words = []\n",
    "    # Initializing WordNetLemmatizer()\n",
    "    word_Lemmatized = WordNetLemmatizer()\n",
    "    # pos_tag function below will provide the 'tag' i.e if the word is Noun(N) or Verb(V) or something else.\n",
    "    for word, tag in pos_tag(entry):\n",
    "        # Below condition is to check for Stop words and consider only alphabets\n",
    "        if word not in stopwords.words('english') and word.isalpha():\n",
    "            word_Final = word_Lemmatized.lemmatize(word,tag_map[tag[0]])\n",
    "            Final_words.append(word_Final)\n",
    "    # The final processed set of words for each iteration will be stored in 'text_final'\n",
    "    Corpus.loc[index,'text_final'] = str(Final_words)"
   ]
  },
  {
   "cell_type": "code",
   "execution_count": 46,
   "metadata": {},
   "outputs": [],
   "source": [
    "Train_X, Test_X, Train_Y, Test_Y = model_selection.train_test_split(Corpus['text_final'],Corpus['suggestion'],test_size=0.2)"
   ]
  },
  {
   "cell_type": "code",
   "execution_count": 47,
   "metadata": {},
   "outputs": [],
   "source": [
    "Encoder = LabelEncoder()\n",
    "Train_Y = Encoder.fit_transform(Train_Y)\n",
    "Test_Y = Encoder.fit_transform(Test_Y)\n",
    "# Test_X.describe"
   ]
  },
  {
   "cell_type": "code",
   "execution_count": 7,
   "metadata": {},
   "outputs": [],
   "source": [
    "Tfidf_vect = TfidfVectorizer(max_features=5000)\n",
    "Tfidf_vect.fit(Corpus['text_final'])\n",
    "Train_X_Tfidf = Tfidf_vect.transform(Train_X)\n",
    "Test_X_Tfidf = Tfidf_vect.transform(Test_X)"
   ]
  },
  {
   "cell_type": "code",
   "execution_count": null,
   "metadata": {},
   "outputs": [],
   "source": []
  },
  {
   "cell_type": "code",
   "execution_count": 8,
   "metadata": {},
   "outputs": [
    {
     "name": "stdout",
     "output_type": "stream",
     "text": [
      "  (0, 665)\t0.2598159672510975\n",
      "  (0, 410)\t0.33826869738274634\n",
      "  (0, 365)\t0.44949699116306413\n",
      "  (0, 347)\t0.5007560409949183\n",
      "  (0, 346)\t0.5007560409949183\n",
      "  (0, 320)\t0.2849834611612777\n",
      "  (0, 141)\t0.1824653614975694\n",
      "  (1, 686)\t0.8229147482846391\n",
      "  (1, 300)\t0.5681648678470266\n",
      "  (2, 564)\t0.44553047205843427\n",
      "  (2, 562)\t0.4999686015300664\n",
      "  (2, 312)\t0.4773747364087423\n",
      "  (2, 251)\t0.36849847746547804\n",
      "  (2, 173)\t0.43342384463221095\n",
      "  (3, 457)\t0.47735078787639595\n",
      "  (3, 360)\t0.6643331455672428\n",
      "  (3, 358)\t0.3499830438696258\n",
      "  (3, 303)\t0.45640942805585016\n",
      "  (4, 174)\t1.0\n",
      "  (5, 637)\t0.356646343420371\n",
      "  (5, 632)\t0.45848546668000967\n",
      "  (5, 520)\t0.36462127949202117\n",
      "  (5, 251)\t0.3176891858980269\n",
      "  (5, 98)\t0.2476733967525925\n",
      "  (5, 58)\t0.39644461360622546\n",
      "  :\t:\n",
      "  (507, 431)\t0.3701355070971858\n",
      "  (507, 264)\t0.4375505189777045\n",
      "  (507, 240)\t0.2840297653024115\n",
      "  (507, 233)\t0.34824733237071803\n",
      "  (507, 184)\t0.3793134760378173\n",
      "  (508, 763)\t0.24473795192504946\n",
      "  (508, 710)\t0.24075436751885299\n",
      "  (508, 693)\t0.3388473045256288\n",
      "  (508, 529)\t0.24900631221514813\n",
      "  (508, 450)\t0.40446920562591676\n",
      "  (508, 352)\t0.40446920562591676\n",
      "  (508, 340)\t0.3296396333840379\n",
      "  (508, 300)\t0.14819307616156485\n",
      "  (508, 276)\t0.3216635858457263\n",
      "  (508, 141)\t0.14738038840736936\n",
      "  (508, 82)\t0.3497376680249195\n",
      "  (509, 688)\t0.6541040977559092\n",
      "  (509, 438)\t0.6613243173818514\n",
      "  (509, 300)\t0.3671484393788927\n",
      "  (510, 724)\t0.7839259742003513\n",
      "  (510, 358)\t0.49912327983619365\n",
      "  (510, 300)\t0.36923707627971325\n",
      "  (511, 546)\t0.7388720690090321\n",
      "  (511, 358)\t0.541724665193155\n",
      "  (511, 300)\t0.40075235839565093\n"
     ]
    }
   ],
   "source": [
    "print(Train_X_Tfidf)"
   ]
  },
  {
   "cell_type": "code",
   "execution_count": 9,
   "metadata": {},
   "outputs": [
    {
     "name": "stdout",
     "output_type": "stream",
     "text": [
      "Naive Bayes Accuracy Score ->  82.17054263565892\n"
     ]
    },
    {
     "data": {
      "text/plain": [
       "array([0, 0, 0, 1, 0, 0, 0, 0, 1, 1, 0, 0, 0, 0, 0, 1, 0, 0, 0, 0, 1, 0,\n",
       "       1, 0, 1, 0, 0, 0, 0, 0, 0, 0, 0, 0, 0, 0, 1, 0, 0, 0, 0, 0, 1, 0,\n",
       "       0, 0, 0, 1, 0, 1, 0, 0, 0, 0, 0, 1, 0, 0, 0, 0, 0, 1, 0, 0, 0, 0,\n",
       "       0, 0, 0, 1, 0, 1, 0, 0, 1, 0, 1, 0, 0, 0, 1, 0, 1, 0, 0, 0, 1, 0,\n",
       "       1, 0, 0, 0, 0, 1, 1, 1, 0, 1, 0, 0, 0, 1, 1, 0, 1, 0, 0, 1, 1, 0,\n",
       "       1, 0, 0, 0, 0, 0, 0, 1, 0, 1, 0, 0, 0, 0, 0, 1, 0, 1, 0])"
      ]
     },
     "execution_count": 9,
     "metadata": {},
     "output_type": "execute_result"
    }
   ],
   "source": [
    "# fit the training dataset on the NB classifier\n",
    "Naive = naive_bayes.MultinomialNB()\n",
    "Naive.fit(Train_X_Tfidf,Train_Y)\n",
    "# predict the labels on validation dataset\n",
    "predictions_NB = Naive.predict(Test_X_Tfidf)\n",
    "# Use accuracy_score function to get the accuracy\n",
    "\n",
    "\n",
    "print(\"Naive Bayes Accuracy Score -> \",accuracy_score(predictions_NB, Test_Y)*100)\n",
    "\n",
    "\n",
    "# predictions_NB\n",
    "Test_Y"
   ]
  },
  {
   "cell_type": "code",
   "execution_count": 10,
   "metadata": {},
   "outputs": [
    {
     "name": "stdout",
     "output_type": "stream",
     "text": [
      "Naive Bayes Accuracy Score ->  79.84496124031007\n"
     ]
    }
   ],
   "source": [
    "\n",
    "# fit the training dataset on the NB classifier\n",
    "BNaive = naive_bayes.BernoulliNB()\n",
    "BNaive.fit(Train_X_Tfidf,Train_Y)\n",
    "# predict the labels on validation dataset\n",
    "Bpredictions_NB = BNaive.predict(Test_X_Tfidf)\n",
    "# Use accuracy_score function to get the accuracy\n",
    "print(\"Naive Bayes Accuracy Score -> \",accuracy_score(Bpredictions_NB, Test_Y)*100)\n",
    "\n"
   ]
  },
  {
   "cell_type": "code",
   "execution_count": 11,
   "metadata": {},
   "outputs": [
    {
     "name": "stdout",
     "output_type": "stream",
     "text": [
      "SVM Accuracy Score ->  86.04651162790698\n"
     ]
    }
   ],
   "source": [
    "# Classifier - Algorithm - SVM\n",
    "# fit the training dataset on the classifier\n",
    "SVM = svm.SVC(C=1.0, kernel='linear', degree=3, gamma='auto')\n",
    "SVM.fit(Train_X_Tfidf,Train_Y)\n",
    "# predict the labels on validation dataset\n",
    "predictions_SVM = SVM.predict(Test_X_Tfidf)\n",
    "# Use accuracy_score function to get the accuracy\n",
    "print(\"SVM Accuracy Score -> \",accuracy_score(predictions_SVM, Test_Y)*100)\n",
    "\n"
   ]
  },
  {
   "cell_type": "code",
   "execution_count": 12,
   "metadata": {},
   "outputs": [],
   "source": [
    "# save the model\n",
    "# https://stackabuse.com/text-classification-with-python-and-scikit-learn/\n",
    "with open('text_classifier', 'wb') as picklefile:\n",
    "    pickle.dump(SVM,picklefile)\n",
    "\n",
    "# to load the model use the following\n",
    "with open('text_classifier', 'rb') as training_model:\n",
    "    model = pickle.load(training_model)"
   ]
  },
  {
   "cell_type": "code",
   "execution_count": 13,
   "metadata": {},
   "outputs": [
    {
     "name": "stdout",
     "output_type": "stream",
     "text": [
      "[[86  8]\n",
      " [10 25]]\n",
      "             precision    recall  f1-score   support\n",
      "\n",
      "          0       0.90      0.91      0.91        94\n",
      "          1       0.76      0.71      0.74        35\n",
      "\n",
      "avg / total       0.86      0.86      0.86       129\n",
      "\n",
      "0.8604651162790697\n"
     ]
    }
   ],
   "source": [
    "# to predic\n",
    "# y_pred2 = model.predict(X_test)\n",
    "predictions_SVM = model.predict(Test_X_Tfidf)\n",
    "\n",
    "print(confusion_matrix(Test_Y, predictions_SVM))\n",
    "print(classification_report(Test_Y, predictions_SVM))\n",
    "print(accuracy_score(Test_Y, predictions_SVM)) "
   ]
  },
  {
   "cell_type": "code",
   "execution_count": 14,
   "metadata": {},
   "outputs": [
    {
     "name": "stdout",
     "output_type": "stream",
     "text": [
      "SVM Accuracy Score ->  72.86821705426357\n"
     ]
    }
   ],
   "source": [
    "# Classifier - Algorithm - SVM\n",
    "# fit the training dataset on the classifier\n",
    "SVM = svm.SVC(C=1.0, kernel='rbf', degree=3, gamma='auto')\n",
    "SVM.fit(Train_X_Tfidf,Train_Y)\n",
    "# predict the labels on validation dataset\n",
    "predictions_SVM = SVM.predict(Test_X_Tfidf)\n",
    "# Use accuracy_score function to get the accuracy\n",
    "print(\"SVM Accuracy Score -> \",accuracy_score(predictions_SVM, Test_Y)*100)"
   ]
  },
  {
   "cell_type": "code",
   "execution_count": 15,
   "metadata": {},
   "outputs": [
    {
     "name": "stdout",
     "output_type": "stream",
     "text": [
      "xgboost Accuracy Score ->  77.51937984496125\n"
     ]
    },
    {
     "name": "stderr",
     "output_type": "stream",
     "text": [
      "/home/rounak/.local/lib/python3.6/site-packages/sklearn/preprocessing/label.py:151: DeprecationWarning: The truth value of an empty array is ambiguous. Returning False, but in future this will result in an error. Use `array.size > 0` to check that an array is not empty.\n",
      "  if diff:\n"
     ]
    }
   ],
   "source": [
    "# # https://machinelearningmastery.com/develop-first-xgboost-model-python-scikit-learn/\n",
    "xgb = XGBClassifier()\n",
    "xgb.fit(Train_X_Tfidf,Train_Y)\n",
    "# make predictions for test data\n",
    "y_pred = xgb.predict(Test_X_Tfidf)\n",
    "prediction_xgboost = [round(value) for value in y_pred]\n",
    "# evaluate predictions\n",
    "print(\"xgboost Accuracy Score -> \",accuracy_score(prediction_xgboost, Test_Y)*100)\n",
    "# accuracy = accuracy_score(y_test, predictions)\n",
    "# print(\"Accuracy: %.2f%%\" % (accuracy * 100.0))"
   ]
  },
  {
   "cell_type": "code",
   "execution_count": 16,
   "metadata": {},
   "outputs": [
    {
     "name": "stderr",
     "output_type": "stream",
     "text": [
      "Using TensorFlow backend.\n"
     ]
    },
    {
     "name": "stdout",
     "output_type": "stream",
     "text": [
      "_________________________________________________________________\n",
      "Layer (type)                 Output Shape              Param #   \n",
      "=================================================================\n",
      "dense_1 (Dense)              (None, 10)                7680      \n",
      "_________________________________________________________________\n",
      "dense_2 (Dense)              (None, 1)                 11        \n",
      "=================================================================\n",
      "Total params: 7,691\n",
      "Trainable params: 7,691\n",
      "Non-trainable params: 0\n",
      "_________________________________________________________________\n",
      "Training Accuracy: 0.9980\n",
      "Testing Accuracy:  0.8217\n"
     ]
    }
   ],
   "source": [
    "from keras.models import Sequential\n",
    "from keras import layers\n",
    "\n",
    "input_dim = Train_X_Tfidf.shape[1]  # Number of features\n",
    "\n",
    "model = Sequential()\n",
    "model.add(layers.Dense(10, input_dim=input_dim, activation='relu'))\n",
    "model.add(layers.Dense(1, activation='sigmoid'))\n",
    "\n",
    "model.compile(loss='binary_crossentropy', \n",
    "              optimizer='adam', \n",
    "              metrics=['accuracy'])\n",
    "model.summary()\n",
    "\n",
    "# xgb.fit(Train_X_Tfidf,Train_Y)\n",
    "history = model.fit(Train_X_Tfidf,Train_Y,\n",
    "                    epochs=100,\n",
    "                    verbose=False,\n",
    "                    validation_data=(Test_X_Tfidf, Test_Y),\n",
    "                    batch_size=10)\n",
    "\n",
    "loss, accuracy = model.evaluate(Train_X_Tfidf,Train_Y, verbose=False)\n",
    "print(\"Training Accuracy: {:.4f}\".format(accuracy))\n",
    "loss, accuracy = model.evaluate(Test_X_Tfidf, Test_Y, verbose=False)\n",
    "print(\"Testing Accuracy:  {:.4f}\".format(accuracy))\n"
   ]
  },
  {
   "cell_type": "code",
   "execution_count": 18,
   "metadata": {},
   "outputs": [],
   "source": [
    "\n",
    "# # # First XGBoost model for Pima Indians dataset\n",
    "# # from numpy import loadtxt\n",
    "# # from xgboost import XGBClassifier\n",
    "# # from sklearn.model_selection import train_test_split\n",
    "# # from sklearn.metrics import accuracy_score\n",
    "# # # load data\n",
    "# # dataset = loadtxt('pima-indians-diabetes.csv', delimiter=\",\")\n",
    "# # # split data into X and y\n",
    "# # X = dataset[:,0:8]\n",
    "# # Y = dataset[:,8]\n",
    "# # # split data into train and test sets\n",
    "# # seed = 7\n",
    "# # test_size = 0.33\n",
    "# # X_train, X_test, y_train, y_test = train_test_split(X, Y, test_size=test_size, random_state=seed)\n",
    "# # # fit model no training data\n",
    "# model = XGBClassifier()\n",
    "# model.fit(X_train, y_train)\n",
    "# # make predictions for test data\n",
    "# y_pred = model.predict(X_test)\n",
    "# predictions = [round(value) for value in y_pred]\n",
    "# # evaluate predictions\n",
    "# accuracy = accuracy_score(y_test, predictions)\n",
    "# print(\"Accuracy: %.2f%%\" % (accuracy * 100.0))"
   ]
  },
  {
   "cell_type": "code",
   "execution_count": null,
   "metadata": {},
   "outputs": [],
   "source": [
    "# %matplotlib inline\n",
    "\n",
    "# import seaborn as sns\n",
    "# import matplotlib.pyplot as plt\n",
    "\n",
    "# plt.figure(figsize=(12,5))\n",
    "# sns.countplot(x=bbc_text_df.category, color='green')\n",
    "# plt.title('BBC text class distribution', fontsize=16)\n",
    "# plt.ylabel('Class Counts', fontsize=16)\n",
    "# plt.xlabel('Class Label', fontsize=16)\n",
    "# plt.xticks(rotation='vertical');"
   ]
  },
  {
   "cell_type": "code",
   "execution_count": 45,
   "metadata": {},
   "outputs": [
    {
     "ename": "AttributeError",
     "evalue": "'list' object has no attribute 'lower'",
     "output_type": "error",
     "traceback": [
      "\u001b[0;31m---------------------------------------------------------------------------\u001b[0m",
      "\u001b[0;31mAttributeError\u001b[0m                            Traceback (most recent call last)",
      "\u001b[0;32m<ipython-input-45-5e09625b7b99>\u001b[0m in \u001b[0;36m<module>\u001b[0;34m\u001b[0m\n\u001b[1;32m      3\u001b[0m \u001b[0;34m\u001b[0m\u001b[0m\n\u001b[1;32m      4\u001b[0m \u001b[0;31m# Step - b : Change all the text to lower case. This is required as python interprets 'dog' and 'DOG' differently\u001b[0m\u001b[0;34m\u001b[0m\u001b[0;34m\u001b[0m\u001b[0;34m\u001b[0m\u001b[0m\n\u001b[0;32m----> 5\u001b[0;31m \u001b[0mCorpus\u001b[0m\u001b[0;34m[\u001b[0m\u001b[0;34m'comment'\u001b[0m\u001b[0;34m]\u001b[0m \u001b[0;34m=\u001b[0m \u001b[0;34m[\u001b[0m\u001b[0mentry\u001b[0m\u001b[0;34m.\u001b[0m\u001b[0mlower\u001b[0m\u001b[0;34m(\u001b[0m\u001b[0;34m)\u001b[0m \u001b[0;32mfor\u001b[0m \u001b[0mentry\u001b[0m \u001b[0;32min\u001b[0m \u001b[0mCorpus\u001b[0m\u001b[0;34m[\u001b[0m\u001b[0;34m'comment'\u001b[0m\u001b[0;34m]\u001b[0m\u001b[0;34m]\u001b[0m\u001b[0;34m\u001b[0m\u001b[0;34m\u001b[0m\u001b[0m\n\u001b[0m\u001b[1;32m      6\u001b[0m \u001b[0;34m\u001b[0m\u001b[0m\n\u001b[1;32m      7\u001b[0m \u001b[0;31m# Step - c : Tokenization : In this each entry in the corpus will be broken into set of words\u001b[0m\u001b[0;34m\u001b[0m\u001b[0;34m\u001b[0m\u001b[0;34m\u001b[0m\u001b[0m\n",
      "\u001b[0;32m<ipython-input-45-5e09625b7b99>\u001b[0m in \u001b[0;36m<listcomp>\u001b[0;34m(.0)\u001b[0m\n\u001b[1;32m      3\u001b[0m \u001b[0;34m\u001b[0m\u001b[0m\n\u001b[1;32m      4\u001b[0m \u001b[0;31m# Step - b : Change all the text to lower case. This is required as python interprets 'dog' and 'DOG' differently\u001b[0m\u001b[0;34m\u001b[0m\u001b[0;34m\u001b[0m\u001b[0;34m\u001b[0m\u001b[0m\n\u001b[0;32m----> 5\u001b[0;31m \u001b[0mCorpus\u001b[0m\u001b[0;34m[\u001b[0m\u001b[0;34m'comment'\u001b[0m\u001b[0;34m]\u001b[0m \u001b[0;34m=\u001b[0m \u001b[0;34m[\u001b[0m\u001b[0mentry\u001b[0m\u001b[0;34m.\u001b[0m\u001b[0mlower\u001b[0m\u001b[0;34m(\u001b[0m\u001b[0;34m)\u001b[0m \u001b[0;32mfor\u001b[0m \u001b[0mentry\u001b[0m \u001b[0;32min\u001b[0m \u001b[0mCorpus\u001b[0m\u001b[0;34m[\u001b[0m\u001b[0;34m'comment'\u001b[0m\u001b[0;34m]\u001b[0m\u001b[0;34m]\u001b[0m\u001b[0;34m\u001b[0m\u001b[0;34m\u001b[0m\u001b[0m\n\u001b[0m\u001b[1;32m      6\u001b[0m \u001b[0;34m\u001b[0m\u001b[0m\n\u001b[1;32m      7\u001b[0m \u001b[0;31m# Step - c : Tokenization : In this each entry in the corpus will be broken into set of words\u001b[0m\u001b[0;34m\u001b[0m\u001b[0;34m\u001b[0m\u001b[0;34m\u001b[0m\u001b[0m\n",
      "\u001b[0;31mAttributeError\u001b[0m: 'list' object has no attribute 'lower'"
     ]
    }
   ],
   "source": [
    "# Step - a : Remove blank rows if any.\n",
    "Corpus['comment'].dropna(inplace=True)\n",
    "\n",
    "# Step - b : Change all the text to lower case. This is required as python interprets 'dog' and 'DOG' differently\n",
    "Corpus['comment'] = [entry.lower() for entry in Corpus['comment']]\n",
    "\n",
    "# Step - c : Tokenization : In this each entry in the corpus will be broken into set of words\n",
    "Corpus['comment']= [word_tokenize(entry) for entry in Corpus['comment']]\n",
    "\n",
    "# Step - d : Remove Stop words, Non-Numeric and perfom Word Stemming/Lemmenting.\n",
    "# WordNetLemmatizer requires Pos tags to understand if the word is noun or verb or adjective etc. By default it is set to Noun\n",
    "tag_map = defaultdict(lambda : wn.NOUN)\n",
    "tag_map['J'] = wn.ADJ\n",
    "tag_map['V'] = wn.VERB\n",
    "tag_map['R'] = wn.ADV\n",
    "for index,entry in enumerate(Corpus['comment']):\n",
    "    # Declaring Empty List to store the words that follow the rules for this step\n",
    "    Final_words = []\n",
    "    # Initializing WordNetLemmatizer()\n",
    "    word_Lemmatized = WordNetLemmatizer()\n",
    "    # pos_tag function below will provide the 'tag' i.e if the word is Noun(N) or Verb(V) or something else.\n",
    "    for word, tag in pos_tag(entry):\n",
    "        # Below condition is to check for Stop words and consider only alphabets\n",
    "        if word not in stopwords.words('english') and word.isalpha():\n",
    "            word_Final = word_Lemmatized.lemmatize(word,tag_map[tag[0]])\n",
    "            Final_words.append(word_Final)\n",
    "    # The final processed set of words for each iteration will be stored in 'text_final'\n",
    "    Corpus.loc[index,'text_final'] = str(Final_words)\n",
    "Final_words"
   ]
  },
  {
   "cell_type": "code",
   "execution_count": 65,
   "metadata": {},
   "outputs": [],
   "source": [
    "from tkinter import *\n",
    " \n",
    "window = Tk()\n",
    " \n",
    "window.title(\"Welcome to LikeGeeks app\")\n",
    " \n",
    "window.geometry('350x200')\n",
    " \n",
    "lbl = Label(window, text=\"Hello\")\n",
    " \n",
    "lbl.grid(column=0, row=0)\n",
    " \n",
    "txt = Entry(window,width=10)\n",
    "# txt.pack()\n",
    "# txt.focus_set()\n",
    "# insertedtext = txt.get()\n",
    "\n",
    "txt.grid(column=1, row=0)\n",
    " \n",
    "def clicked():\n",
    "    text = txt.get()\n",
    "    lower = text.lower()\n",
    "    words= []\n",
    "    remove_num = re.sub(r'\\d+', '', lower)\n",
    "# punch = remove_num.translate(string.maketrans(\"\",\"\"), string.punctuation)\n",
    "    space = remove_num.strip()\n",
    "    tokens = word_tokenize(space)\n",
    "    stop_words = set(stopwords.words('english'))\n",
    "    result = [i for i in tokens if not i in stop_words]\n",
    "    lemmatizer=WordNetLemmatizer()\n",
    "#     l=lemmatizer.lemmatize([word for word in result])\n",
    "    for word in result:\n",
    "        words.append(lemmatizer.lemmatize(word))\n",
    "    #Define class functions\n",
    "    \n",
    "    Test_X_Tfidf = Tfidf_vect.transform(words)\n",
    "#      = txt.get()\n",
    "    print(Test_X_Tfidf)\n",
    "    out = SVM.predict(Test_X_Tfidf)\n",
    "#     print(out[0])\n",
    "#     if out[0] == 0:\n",
    "#         lbl.configure(text=\"Suggestion is a NO\")\n",
    "#     else:\n",
    "#         lbl.configure(text=\"Suggestion is a YES\")\n",
    "    \n",
    "# btn = Button(window, text=\"Click Me\", command=clicked)\n",
    "\n",
    "# btn.grid(column=2, row=0)\n",
    "# # c\n",
    "# window.mainloop()"
   ]
  },
  {
   "cell_type": "code",
   "execution_count": null,
   "metadata": {},
   "outputs": [],
   "source": []
  },
  {
   "cell_type": "code",
   "execution_count": null,
   "metadata": {},
   "outputs": [],
   "source": []
  }
 ],
 "metadata": {
  "kernelspec": {
   "display_name": "Python 3",
   "language": "python",
   "name": "python3"
  },
  "language_info": {
   "codemirror_mode": {
    "name": "ipython",
    "version": 3
   },
   "file_extension": ".py",
   "mimetype": "text/x-python",
   "name": "python",
   "nbconvert_exporter": "python",
   "pygments_lexer": "ipython3",
   "version": "3.6.8"
  }
 },
 "nbformat": 4,
 "nbformat_minor": 2
}
