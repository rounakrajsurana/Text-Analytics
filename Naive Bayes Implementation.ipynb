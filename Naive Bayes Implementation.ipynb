{
 "cells": [
  {
   "cell_type": "code",
   "execution_count": 1,
   "metadata": {},
   "outputs": [],
   "source": [
    "import pandas as pd\n",
    "import numpy as np\n",
    "from nltk.tokenize import word_tokenize\n",
    "from nltk import pos_tag\n",
    "from nltk.corpus import stopwords\n",
    "from nltk.stem import WordNetLemmatizer\n",
    "from sklearn.preprocessing import LabelEncoder\n",
    "from collections import defaultdict\n",
    "from nltk.corpus import wordnet as wn\n",
    "from sklearn.feature_extraction.text import CountVectorizer\n",
    "from sklearn.feature_extraction.text import TfidfVectorizer\n",
    "from sklearn.feature_extraction.text import TfidfTransformer\n",
    "from sklearn import model_selection, naive_bayes, svm\n",
    "from sklearn.naive_bayes import MultinomialNB\n",
    "from sklearn.naive_bayes import BernoulliNB\n",
    "from sklearn.svm import SVC\n",
    "from xgboost import XGBClassifier\n",
    "from sklearn.metrics import accuracy_score\n",
    "from sklearn.metrics import precision_score\n",
    "from sklearn.metrics import recall_score\n",
    "from sklearn.metrics import f1_score\n",
    "from sklearn.metrics import confusion_matrix\n",
    "from sklearn.metrics import classification_report\n",
    "from sklearn.pipeline import Pipeline\n",
    "import matplotlib.pyplot as plt\n",
    "import itertools\n",
    "# import catboost\n",
    "# from catboost import CatBoostClassifier\n",
    "# import rb\n",
    "\n",
    "import pickle"
   ]
  },
  {
   "cell_type": "code",
   "execution_count": 2,
   "metadata": {},
   "outputs": [],
   "source": [
    "np.random.seed(5000)"
   ]
  },
  {
   "cell_type": "code",
   "execution_count": 3,
   "metadata": {},
   "outputs": [
    {
     "data": {
      "text/plain": [
       "array(['positive', 'neutral'], dtype=object)"
      ]
     },
     "execution_count": 3,
     "metadata": {},
     "output_type": "execute_result"
    }
   ],
   "source": [
    "Corpus = pd.read_csv(r\"data/student_evaluation.csv\",encoding='latin-1')\n",
    "# Corpus.head()\n",
    "Corpus.Sentiment.unique()"
   ]
  },
  {
   "cell_type": "code",
   "execution_count": 4,
   "metadata": {},
   "outputs": [
    {
     "data": {
      "text/html": [
       "<div>\n",
       "<style scoped>\n",
       "    .dataframe tbody tr th:only-of-type {\n",
       "        vertical-align: middle;\n",
       "    }\n",
       "\n",
       "    .dataframe tbody tr th {\n",
       "        vertical-align: top;\n",
       "    }\n",
       "\n",
       "    .dataframe thead th {\n",
       "        text-align: right;\n",
       "    }\n",
       "</style>\n",
       "<table border=\"1\" class=\"dataframe\">\n",
       "  <thead>\n",
       "    <tr style=\"text-align: right;\">\n",
       "      <th></th>\n",
       "      <th>comment</th>\n",
       "      <th>Predicted_Sentiment</th>\n",
       "      <th>Actual_Sentiment</th>\n",
       "    </tr>\n",
       "  </thead>\n",
       "  <tbody>\n",
       "    <tr>\n",
       "      <th>0</th>\n",
       "      <td>good</td>\n",
       "      <td>NaN</td>\n",
       "      <td>1</td>\n",
       "    </tr>\n",
       "    <tr>\n",
       "      <th>1</th>\n",
       "      <td>The course was up to date</td>\n",
       "      <td>NaN</td>\n",
       "      <td>1</td>\n",
       "    </tr>\n",
       "    <tr>\n",
       "      <th>2</th>\n",
       "      <td>It is one of the fundamental subjects for Comp...</td>\n",
       "      <td>NaN</td>\n",
       "      <td>1</td>\n",
       "    </tr>\n",
       "    <tr>\n",
       "      <th>3</th>\n",
       "      <td>However, I believe the content of the course w...</td>\n",
       "      <td>NaN</td>\n",
       "      <td>0</td>\n",
       "    </tr>\n",
       "    <tr>\n",
       "      <th>4</th>\n",
       "      <td>An excellent course to learn almost every part...</td>\n",
       "      <td>NaN</td>\n",
       "      <td>1</td>\n",
       "    </tr>\n",
       "  </tbody>\n",
       "</table>\n",
       "</div>"
      ],
      "text/plain": [
       "                                             comment  Predicted_Sentiment  \\\n",
       "0                                               good                  NaN   \n",
       "1                          The course was up to date                  NaN   \n",
       "2  It is one of the fundamental subjects for Comp...                  NaN   \n",
       "3  However, I believe the content of the course w...                  NaN   \n",
       "4  An excellent course to learn almost every part...                  NaN   \n",
       "\n",
       "   Actual_Sentiment  \n",
       "0                 1  \n",
       "1                 1  \n",
       "2                 1  \n",
       "3                 0  \n",
       "4                 1  "
      ]
     },
     "execution_count": 4,
     "metadata": {},
     "output_type": "execute_result"
    }
   ],
   "source": [
    "test = pd.read_csv(r\"data/course1.csv\",encoding='latin-1')\n",
    "test.head()\n",
    "# Corpus.Sentiment.unique()"
   ]
  },
  {
   "cell_type": "code",
   "execution_count": 5,
   "metadata": {},
   "outputs": [],
   "source": [
    "# Step - a : Remove blank rows if any.\n",
    "test['comment'].dropna(inplace=True)\n",
    "\n",
    "# Step - b : Change all the text to lower case. This is required as python interprets 'dog' and 'DOG' differently\n",
    "test['comment'] = [entry.lower() for entry in test['comment']]\n",
    "\n",
    "# Step - c : Tokenization : In this each entry in the test will be broken into set of words\n",
    "test['comment']= [word_tokenize(entry) for entry in test['comment']]\n",
    "\n",
    "# Step - d : Remove Stop words, Non-Numeric and perfom Word Stemming/Lemmenting.\n",
    "# WordNetLemmatizer requires Pos tags to understand if the word is noun or verb or adjective etc. By default it is set to Noun\n",
    "tag_map = defaultdict(lambda : wn.NOUN)\n",
    "tag_map['J'] = wn.ADJ\n",
    "tag_map['V'] = wn.VERB\n",
    "tag_map['R'] = wn.ADV\n",
    "for index,entry in enumerate(test['comment']):\n",
    "    # Declaring Empty List to store the words that follow the rules for this step\n",
    "    final_words = []\n",
    "    # Initializing WordNetLemmatizer()\n",
    "    word_Lemmatized = WordNetLemmatizer()\n",
    "    # pos_tag function below will provide the 'tag' i.e if the word is Noun(N) or Verb(V) or something else.\n",
    "    for word, tag in pos_tag(entry):\n",
    "        # Below condition is to check for Stop words and consider only alphabets\n",
    "        if word not in stopwords.words('english') and word.isalpha():\n",
    "            word_Final = word_Lemmatized.lemmatize(word,tag_map[tag[0]])\n",
    "            final_words.append(word_Final)\n",
    "    # The final processed set of words for each iteration will be stored in 'text_final'\n",
    "    test.loc[index,'test_final'] = str(final_words)\n",
    "\n",
    "# print(Final_words)"
   ]
  },
  {
   "cell_type": "code",
   "execution_count": 6,
   "metadata": {},
   "outputs": [],
   "source": [
    "# Step - a : Remove blank rows if any.\n",
    "Corpus['comment'].dropna(inplace=True)\n",
    "\n",
    "# Step - b : Change all the text to lower case. This is required as python interprets 'dog' and 'DOG' differently\n",
    "Corpus['comment'] = [entry.lower() for entry in Corpus['comment']]\n",
    "\n",
    "# Step - c : Tokenization : In this each entry in the corpus will be broken into set of words\n",
    "Corpus['comment']= [word_tokenize(entry) for entry in Corpus['comment']]\n",
    "\n",
    "# Step - d : Remove Stop words, Non-Numeric and perfom Word Stemming/Lemmenting.\n",
    "# WordNetLemmatizer requires Pos tags to understand if the word is noun or verb or adjective etc. By default it is set to Noun\n",
    "tag_map = defaultdict(lambda : wn.NOUN)\n",
    "tag_map['J'] = wn.ADJ\n",
    "tag_map['V'] = wn.VERB\n",
    "tag_map['R'] = wn.ADV\n",
    "for index,entry in enumerate(Corpus['comment']):\n",
    "    # Declaring Empty List to store the words that follow the rules for this step\n",
    "    Final_words = []\n",
    "    # Initializing WordNetLemmatizer()\n",
    "    word_Lemmatized = WordNetLemmatizer()\n",
    "    # pos_tag function below will provide the 'tag' i.e if the word is Noun(N) or Verb(V) or something else.\n",
    "    for word, tag in pos_tag(entry):\n",
    "        # Below condition is to check for Stop words and consider only alphabets\n",
    "        if word not in stopwords.words('english') and word.isalpha():\n",
    "            word_Final = word_Lemmatized.lemmatize(word,tag_map[tag[0]])\n",
    "            Final_words.append(word_Final)\n",
    "    # The final processed set of words for each iteration will be stored in 'text_final'\n",
    "    Corpus.loc[index,'text_final'] = str(Final_words)\n",
    "\n",
    "# print(Final_words)"
   ]
  },
  {
   "cell_type": "code",
   "execution_count": 7,
   "metadata": {},
   "outputs": [
    {
     "data": {
      "text/plain": [
       "count    33.000000\n",
       "mean      0.575758\n",
       "std       0.501890\n",
       "min       0.000000\n",
       "25%       0.000000\n",
       "50%       1.000000\n",
       "75%       1.000000\n",
       "max       1.000000\n",
       "Name: Actual_Sentiment, dtype: float64"
      ]
     },
     "execution_count": 7,
     "metadata": {},
     "output_type": "execute_result"
    }
   ],
   "source": [
    "Train_X, Test_X, Train_Y, Test_Y = model_selection.train_test_split(Corpus['text_final'],Corpus['Sentiment'],test_size=0.2)\n",
    "X_Test= test['test_final']\n",
    "Corpus['Sentiment'].value_counts()\n",
    "Y_Test=test[\"Actual_Sentiment\"]\n",
    "# Corpus['text_final']\n",
    "# X_Test.shape()\n",
    "# Train_X.describe()\n",
    "Y_Test.describe()"
   ]
  },
  {
   "cell_type": "code",
   "execution_count": 8,
   "metadata": {},
   "outputs": [],
   "source": [
    "# Train_X, Test_X, Train_Y, Test_Y = model_selection.train_test_split(Corpus['text_final'],Corpus['suggestion'],test_size=0.2)\n",
    "# # Train_X\n",
    "# # Test_Y.describe()\n",
    "# # type(Test_Y)\n",
    "# a = Corpus.to_numpy()\n",
    "# # a = Train_X.to_numpy()\n",
    "# a.shape\n",
    "# nos = a[a=='NO']\n",
    "# CS = a[a == 'CS']\n",
    "# IS = a[a == 'IS']\n",
    "\n",
    "# print(nos.shape)\n",
    "# print(CS.shape)\n",
    "\n",
    "# print(IS.shape)\n",
    "# # yes = a[a=='yes']\n",
    "# # yes.shape\n",
    "# # Test_Y.unique()"
   ]
  },
  {
   "cell_type": "code",
   "execution_count": 9,
   "metadata": {},
   "outputs": [],
   "source": [
    "Encoder = LabelEncoder()\n",
    "Train_Y = Encoder.fit_transform(Train_Y)\n",
    "Test_Y = Encoder.fit_transform(Test_Y)\n",
    "# Test_X.describe"
   ]
  },
  {
   "cell_type": "code",
   "execution_count": 10,
   "metadata": {},
   "outputs": [],
   "source": [
    "Tfidf_vect = TfidfVectorizer()\n",
    "Tfidf_vect.fit(Corpus['text_final'])\n",
    "Train_X_Tfidf = Tfidf_vect.transform(Train_X)\n",
    "Test_X_Tfidf = Tfidf_vect.transform(Test_X)\n",
    "# type(Test_X_Tfidf)\n",
    "# print(Train_X_Tfidf)\n",
    "# vectorizer = CountVectorizer(ngram_range=(2,2))\n",
    "# Tfidf_vect.fit_transform(Corpus['text_final'])\n",
    "\n",
    "# print(Tfidf_vect.get_feature_names())\n",
    "\n",
    "# vectorizer = TfidfVectorizer(ngram_range=(2,2)) # You can still specify n-grams here.\n",
    "# X = vectorizer.fit_transform(arr)"
   ]
  },
  {
   "cell_type": "code",
   "execution_count": 11,
   "metadata": {},
   "outputs": [],
   "source": [
    "# print(Train_X_Tfidf)"
   ]
  },
  {
   "cell_type": "markdown",
   "metadata": {},
   "source": [
    "# Naive Bayes"
   ]
  },
  {
   "cell_type": "code",
   "execution_count": 12,
   "metadata": {},
   "outputs": [
    {
     "name": "stdout",
     "output_type": "stream",
     "text": [
      "\n",
      " Naive Bayes accuracy score -- >  75.1937984496124\n"
     ]
    }
   ],
   "source": [
    "\n",
    "#pipeline model \n",
    "\n",
    "text_clf = Pipeline([('vect', TfidfVectorizer(ngram_range=(1,4))), \n",
    "                      ('clf', MultinomialNB()) ])\n",
    "text_clf.fit(Train_X,Train_Y)\n",
    "\n",
    "predictions_NB = text_clf.predict(Test_X)\n",
    "print(\"\\n Naive Bayes accuracy score -- > \",accuracy_score(Test_Y, predictions_NB)*100)  \n"
   ]
  },
  {
   "cell_type": "code",
   "execution_count": 13,
   "metadata": {},
   "outputs": [],
   "source": [
    "#make the predictions with trained model and submit the predictions.\n",
    "# y_pred=model.predict_classes(X_test)\n",
    "\n",
    "predictions_Test_NB = text_clf.predict(X_Test)\n",
    "\n",
    "test['Sentiment'] = predictions_Test_NB\n",
    "submission = test[[\"comment\",\"Predicted_Sentiment\",\"Actual_Sentiment\"]]\n",
    "submission.to_csv(\"data/results/MNB_submission.csv\", index = False)"
   ]
  },
  {
   "cell_type": "code",
   "execution_count": 14,
   "metadata": {},
   "outputs": [],
   "source": [
    "# predictions = np.round(np.argmax(pred, axis=1)).astype(int)\n",
    "# sub['Sentiment'] = predictions\n",
    "# sub.to_csv(\"blend.csv\", index=False)"
   ]
  },
  {
   "cell_type": "code",
   "execution_count": 15,
   "metadata": {},
   "outputs": [],
   "source": [
    "# #make the predictions with trained model and submit the predictions.\n",
    "# # y_pred=model.predict_classes(X_test)\n",
    "# predictions_Test_NB = text_clf.predict(X_Test)\n",
    "\n",
    "# sub_file = pd.read_csv('data/test.csv',sep=',')\n",
    "# sub_file.Sentiment=predictions_Test_NB\n",
    "# sub_file.to_csv('Submission.csv',index=False)"
   ]
  },
  {
   "cell_type": "code",
   "execution_count": 16,
   "metadata": {},
   "outputs": [
    {
     "name": "stdout",
     "output_type": "stream",
     "text": [
      "Confusion matrix \n",
      " [[47 15]\n",
      " [17 50]]\n",
      "\n",
      " Classification report \n",
      "              precision    recall  f1-score   support\n",
      "\n",
      "          0       0.73      0.76      0.75        62\n",
      "          1       0.77      0.75      0.76        67\n",
      "\n",
      "avg / total       0.75      0.75      0.75       129\n",
      "\n",
      "\n",
      " Naive Bayes accuracy score -- >  75.1937984496124\n",
      "\n",
      " Naive Bayes precision score -- >  75.24783840190817\n"
     ]
    }
   ],
   "source": [
    "confusion_matrix_result = confusion_matrix(Test_Y, predictions_NB)\n",
    "print(\"Confusion matrix \\n\",confusion_matrix_result)\n",
    "print(\"\\n Classification report \\n\",classification_report(Test_Y, predictions_NB))\n",
    "print(\"\\n Naive Bayes accuracy score -- > \",accuracy_score(Test_Y, predictions_NB)*100)  \n",
    "\n",
    "print(\"\\n Naive Bayes precision score -- > \",precision_score(Test_Y, predictions_NB, average = 'weighted')*100)  \n",
    "#make the predictions with trained model and submit the predictions.\n",
    "# # y_pred=model.predict_classes(X_test)\n",
    "# predictions_Test_NB = text_clf.predict(X_Test)\n",
    "\n",
    "# sub_file = pd.read_csv('data/test.csv',sep=',')\n",
    "# sub_file.Sentiment=predictions_Test_NB\n",
    "# sub_file.to_csv('Submission.csv',index=False)"
   ]
  },
  {
   "cell_type": "code",
   "execution_count": 28,
   "metadata": {},
   "outputs": [
    {
     "name": "stdout",
     "output_type": "stream",
     "text": [
      "0\n"
     ]
    }
   ],
   "source": [
    "# pipeline shortens the steps \n",
    "# https://www.youtube.com/watch?v=0kPRaYSgblM\n",
    "# https://github.com/codewrestling/TextClassification/blob/master/Text%20Classification.py\n",
    "\n",
    "text_clf = Pipeline([('vect', TfidfVectorizer(ngram_range=(1,3))), \n",
    "                      ('clf', MultinomialNB()) ])\n",
    "# train the model\n",
    "text_clf.fit(Train_X,Train_Y)\n",
    "\n",
    "# Predict the test cases\n",
    "test_x = ['a student must be stupid not to take this course ']\n",
    "# test_x = [input()]\n",
    "predicted = text_clf.predict(test_x)\n",
    "for x in predicted:\n",
    "    print(x)\n",
    "    \n"
   ]
  },
  {
   "cell_type": "code",
   "execution_count": 18,
   "metadata": {},
   "outputs": [
    {
     "name": "stdout",
     "output_type": "stream",
     "text": [
      "0\n",
      "1\n",
      "0\n",
      "0\n"
     ]
    }
   ],
   "source": [
    "# fit the training dataset on the NB classifier\n",
    "Naive = naive_bayes.MultinomialNB()\n",
    "Naive.fit(Train_X_Tfidf,Train_Y)\n",
    "\n",
    "\n",
    "# docs = ['Also the project helped us implement real world applications that is further helpful if we plan to do research in this field.']\n",
    "docs = ['not at all satisfied','Good course.', 'Please include Field trips.','I think an in class mini-project should be considered to be done step by step in during lectures.']\n",
    "\n",
    "# docs = [input()]\n",
    "# docs = input()\n",
    "x_new_tfidf = Tfidf_vect.transform(docs)\n",
    "predictions = Naive.predict(x_new_tfidf)\n",
    "\n",
    "for x in predictions:\n",
    "    print(x)\n",
    "    \n",
    "    "
   ]
  },
  {
   "cell_type": "code",
   "execution_count": 19,
   "metadata": {},
   "outputs": [
    {
     "data": {
      "text/plain": [
       "MultinomialNB(alpha=1.0, class_prior=None, fit_prior=True)"
      ]
     },
     "execution_count": 19,
     "metadata": {},
     "output_type": "execute_result"
    }
   ],
   "source": [
    "# fit the training dataset on the NB classifier\n",
    "Naive = naive_bayes.MultinomialNB()\n",
    "Naive.fit(Train_X_Tfidf,Train_Y)\n"
   ]
  },
  {
   "cell_type": "code",
   "execution_count": 20,
   "metadata": {},
   "outputs": [
    {
     "name": "stdout",
     "output_type": "stream",
     "text": [
      "Confusion matrix \n",
      " [[44 18]\n",
      " [17 50]]\n",
      "\n",
      " Classification report \n",
      "              precision    recall  f1-score   support\n",
      "\n",
      "          0       0.72      0.71      0.72        62\n",
      "          1       0.74      0.75      0.74        67\n",
      "\n",
      "avg / total       0.73      0.73      0.73       129\n",
      "\n",
      "\n",
      " Naive Bayes accuracy score -- >  72.86821705426357\n",
      "\n",
      " Naive Bayes precision score -- >  72.85737779671533\n",
      "\n",
      " Naive Bayes recall score -- >  72.86821705426357\n",
      "\n",
      " Naive Bayes f1_score -- >  72.85841333865535\n"
     ]
    }
   ],
   "source": [
    "# predict the labels on validation dataset\n",
    "from sklearn.metrics import f1_score \n",
    "predicted_NB = Naive.predict(Test_X_Tfidf)\n",
    "\n",
    "confusion_matrix_result = confusion_matrix(Test_Y, predicted_NB)\n",
    "print(\"Confusion matrix \\n\",confusion_matrix_result)\n",
    "print(\"\\n Classification report \\n\",classification_report(Test_Y, predicted_NB))\n",
    "print(\"\\n Naive Bayes accuracy score -- > \",accuracy_score(Test_Y, predicted_NB)*100)  \n",
    "\n",
    "print(\"\\n Naive Bayes precision score -- > \",precision_score(Test_Y, predicted_NB, average = 'weighted')*100)  \n",
    "\n",
    "print(\"\\n Naive Bayes recall score -- > \",recall_score(Test_Y, predicted_NB, average = 'weighted')*100)  \n",
    "\n",
    "print(\"\\n Naive Bayes f1_score -- > \",f1_score(Test_Y, predicted_NB, average = 'weighted')*100)  \n"
   ]
  },
  {
   "cell_type": "code",
   "execution_count": null,
   "metadata": {},
   "outputs": [],
   "source": []
  },
  {
   "cell_type": "code",
   "execution_count": 21,
   "metadata": {},
   "outputs": [],
   "source": [
    "# #make the predictions with trained model and submit the predictions.\n",
    "# y_pred=model.predict_classes(X_test)\n",
    "\n",
    "# sub_file = pd.read_csv('../input/sampleSubmission.csv',sep=',')\n",
    "# sub_file.Sentiment=y_pred\n",
    "# sub_file.to_csv('Submission.csv',index=False)"
   ]
  },
  {
   "cell_type": "code",
   "execution_count": 22,
   "metadata": {},
   "outputs": [
    {
     "data": {
      "image/png": "[encoded data removed]",
      "text/plain": [
       "<Figure size 432x288 with 2 Axes>"
      ]
     },
     "metadata": {
      "needs_background": "light"
     },
     "output_type": "display_data"
    }
   ],
   "source": [
    "confusion_matrix_NB = confusion_matrix(Test_Y, predictions_NB)\n",
    "\n",
    "classes = [\"Positive\",\"Neutral\"]\n",
    "\n",
    "plt.figure()\n",
    "plt.imshow(confusion_matrix_NB, interpolation='nearest', cmap=plt.cm.Blues)\n",
    "plt.title(\"Confusion Matrix - Text Clasiffication\")\n",
    "plt.colorbar()\n",
    "tick_marks = np.arange(len(classes))\n",
    "plt.xticks(tick_marks, classes, rotation=45)\n",
    "plt.yticks(tick_marks, classes)\n",
    "\n",
    "text_format = 'd'\n",
    "thresh = confusion_matrix_NB.max() / 2.\n",
    "for row, column in itertools.product(range(confusion_matrix_NB.shape[0]), range(confusion_matrix_NB.shape[1])):\n",
    "    plt.text(column, row, format(confusion_matrix_NB[row, column], text_format),\n",
    "             horizontalalignment=\"center\",\n",
    "             color=\"white\" if confusion_matrix_NB[row, column] > thresh else \"black\")\n",
    "\n",
    "plt.ylabel('True label')\n",
    "plt.xlabel('Predicted label')\n",
    "plt.tight_layout()\n",
    "\n",
    "plt.show()"
   ]
  },
  {
   "cell_type": "code",
   "execution_count": null,
   "metadata": {},
   "outputs": [],
   "source": []
  },
  {
   "cell_type": "code",
   "execution_count": 23,
   "metadata": {},
   "outputs": [
    {
     "data": {
      "text/plain": [
       "129"
      ]
     },
     "execution_count": 23,
     "metadata": {},
     "output_type": "execute_result"
    }
   ],
   "source": [
    "len(Train_Y)\n",
    "len(Test_Y)\n"
   ]
  },
  {
   "cell_type": "markdown",
   "metadata": {},
   "source": [
    "## Bernoulli Naive Bayes"
   ]
  },
  {
   "cell_type": "code",
   "execution_count": 24,
   "metadata": {},
   "outputs": [
    {
     "name": "stdout",
     "output_type": "stream",
     "text": [
      "Naive Bayes Accuracy Score ->  74.4186046511628\n",
      "Naive Bayes precision Score ->  77.35777227889062\n"
     ]
    }
   ],
   "source": [
    "\n",
    "# fit the training dataset on the NB classifier\n",
    "BNaive = naive_bayes.BernoulliNB()\n",
    "BNaive.fit(Train_X_Tfidf,Train_Y)\n",
    "# predict the labels on validation dataset\n",
    "Bpredictions_NB = BNaive.predict(Test_X_Tfidf)\n",
    "# Use accuracy_score function to get the accuracy\n",
    "print(\"Naive Bayes Accuracy Score -> \",accuracy_score(Bpredictions_NB, Test_Y)*100)\n",
    "print(\"Naive Bayes precision Score -> \",precision_score(Bpredictions_NB, Test_Y, average = 'weighted')*100)\n",
    "\n"
   ]
  },
  {
   "cell_type": "code",
   "execution_count": null,
   "metadata": {},
   "outputs": [],
   "source": []
  },
  {
   "cell_type": "code",
   "execution_count": 25,
   "metadata": {},
   "outputs": [
    {
     "name": "stdout",
     "output_type": "stream",
     "text": [
      "Naive Bayes Accuracy Score ->  75.96899224806202\n",
      "Naive Bayes precision Score ->  78.19118958844187\n"
     ]
    }
   ],
   "source": [
    "#pipeline model \n",
    "\n",
    "text_clf_BNB = Pipeline([('vect', TfidfVectorizer(ngram_range=(1,1))), \n",
    "                      ('clf', BernoulliNB()) ])\n",
    "text_clf_BNB.fit(Train_X,Train_Y)\n",
    "\n",
    "Bepredictions_NB = text_clf_BNB.predict(Test_X)\n",
    "print(\"Naive Bayes Accuracy Score -> \",accuracy_score(Bepredictions_NB, Test_Y)*100)\n",
    "\n",
    "print(\"Naive Bayes precision Score -> \",precision_score(Bepredictions_NB, Test_Y, average = 'weighted')*100)\n"
   ]
  },
  {
   "cell_type": "code",
   "execution_count": 26,
   "metadata": {},
   "outputs": [
    {
     "name": "stdout",
     "output_type": "stream",
     "text": [
      "Confusion matrix \n",
      " [[40 22]\n",
      " [ 9 58]]\n",
      "\n",
      " Classification report \n",
      "              precision    recall  f1-score   support\n",
      "\n",
      "          0       0.82      0.65      0.72        62\n",
      "          1       0.72      0.87      0.79        67\n",
      "\n",
      "avg / total       0.77      0.76      0.76       129\n",
      "\n",
      "\n",
      " Naive Bayes accuracy score -- >  75.96899224806202\n",
      "\n",
      " Naive Bayes precision score -- >  76.88933713020091\n"
     ]
    }
   ],
   "source": [
    "confusion_matrix_result = confusion_matrix(Test_Y, Bepredictions_NB)\n",
    "print(\"Confusion matrix \\n\",confusion_matrix_result)\n",
    "print(\"\\n Classification report \\n\",classification_report(Test_Y, Bepredictions_NB))\n",
    "print(\"\\n Naive Bayes accuracy score -- > \",accuracy_score(Test_Y, Bepredictions_NB)*100)  \n",
    "\n",
    "print(\"\\n Naive Bayes precision score -- > \",precision_score(Test_Y, Bepredictions_NB, average = 'weighted')*100)  \n"
   ]
  },
  {
   "cell_type": "code",
   "execution_count": 27,
   "metadata": {},
   "outputs": [
    {
     "name": "stdout",
     "output_type": "stream",
     "text": [
      "Confusion matrix \n",
      " [[12  2]\n",
      " [ 4 15]]\n",
      "\n",
      " Classification report \n",
      "              precision    recall  f1-score   support\n",
      "\n",
      "          0       0.75      0.86      0.80        14\n",
      "          1       0.88      0.79      0.83        19\n",
      "\n",
      "avg / total       0.83      0.82      0.82        33\n",
      "\n",
      "\n",
      " Naive Bayes accuracy score -- >  81.81818181818183\n",
      "\n",
      " Naive Bayes precision score -- >  82.62032085561498\n"
     ]
    }
   ],
   "source": [
    "#make the predictions with trained model and submit the predictions.\n",
    "# y_pred=model.predict_classes(X_test)\n",
    "\n",
    "# predictions_Test_NB = text_clf.predict(X_Test)\n",
    "\n",
    "Bepredictions_NB = text_clf_BNB.predict(X_Test)\n",
    "\n",
    "confusion_matrix_result = confusion_matrix(Y_Test, Bepredictions_NB)\n",
    "print(\"Confusion matrix \\n\",confusion_matrix_result)\n",
    "print(\"\\n Classification report \\n\",classification_report(Y_Test, Bepredictions_NB))\n",
    "print(\"\\n Naive Bayes accuracy score -- > \",accuracy_score(Y_Test, Bepredictions_NB)*100)  \n",
    "\n",
    "print(\"\\n Naive Bayes precision score -- > \",precision_score(Y_Test, Bepredictions_NB, average = 'weighted')*100)  \n",
    "\n",
    "\n",
    "test['Sentiment'] = Bepredictions_NB\n",
    "submission = test[[\"comment\",\"Predicted_Sentiment\",\"Actual_Sentiment\"]]\n",
    "submission.to_csv(\"data/results/BNB_submission.csv\", index = False)"
   ]
  },
  {
   "cell_type": "code",
   "execution_count": null,
   "metadata": {},
   "outputs": [],
   "source": []
  },
  {
   "cell_type": "code",
   "execution_count": null,
   "metadata": {},
   "outputs": [],
   "source": []
  }
 ],
 "metadata": {
  "kernelspec": {
   "display_name": "Python 3",
   "language": "python",
   "name": "python3"
  },
  "language_info": {
   "codemirror_mode": {
    "name": "ipython",
    "version": 3
   },
   "file_extension": ".py",
   "mimetype": "text/x-python",
   "name": "python",
   "nbconvert_exporter": "python",
   "pygments_lexer": "ipython3",
   "version": "3.6.8"
  }
 },
 "nbformat": 4,
 "nbformat_minor": 2
}
